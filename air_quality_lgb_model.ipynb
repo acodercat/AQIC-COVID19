{
 "cells": [
  {
   "cell_type": "code",
   "execution_count": 3,
   "metadata": {},
   "outputs": [],
   "source": [
    "import pandas as pd\n",
    "from sklearn.metrics import mean_squared_error, mean_absolute_error, r2_score\n",
    "import numpy as np\n",
    "import lightgbm as lgb"
   ]
  },
  {
   "cell_type": "code",
   "execution_count": 4,
   "metadata": {},
   "outputs": [],
   "source": [
    "# Define feature columns and target column\n",
    "FEATURE_COLUMNS = ['lat', 'lon',\n",
    "                   'TMP_P0_L1_GLL0', 'SPFH_P0_2L108_GLL0', 'RH_P0_L4_GLL0',\n",
    "                   'PWAT_P0_L200_GLL0', 'UGRD_P0_L6_GLL0', 'GUST_P0_L1_GLL0',\n",
    "                   'PRES_P0_L7_GLL0', 'CultivatedLand', 'WoodLand', 'GrassLand', 'Waters',\n",
    "                   'UrbanRural', 'UnusedLand', 'Ocean', 'ELEVATION', 'AOD', 'month',\n",
    "                   'year', 'weekday']\n",
    "\n",
    "target_columns = ['o3', 'pm10', 'pm2_5', 'no2']\n",
    "\n",
    "# Load the datasets\n",
    "train_set = pd.read_csv('./dataset/train_set.csv')\n",
    "test_set = pd.read_csv('./dataset/test_set.csv')"
   ]
  },
  {
   "cell_type": "code",
   "execution_count": 5,
   "metadata": {},
   "outputs": [],
   "source": [
    "# LightGBM model parameters\n",
    "params = {\n",
    "    'boosting_type': 'gbdt',\n",
    "    'objective': 'regression',\n",
    "    'metric': 'rmse',\n",
    "    # 'device': 'gpu',  # Enable GPU training\n",
    "    # 'gpu_platform_id': 0,  # Use the first GPU\n",
    "    # 'gpu_device_id': 0,\n",
    "    'num_leaves': 1500,\n",
    "    'max_depth': 20,\n",
    "    'learning_rate': 0.05,\n",
    "    'feature_fraction': 0.9,\n",
    "    'bagging_fraction': 0.8,\n",
    "    'bagging_freq': 5,\n",
    "    'verbose': -1\n",
    "}"
   ]
  },
  {
   "cell_type": "code",
   "execution_count": 6,
   "metadata": {},
   "outputs": [],
   "source": [
    "def train_lgb(train_set, target_column):\n",
    "    \"\"\"\n",
    "    Train a LightGBM model on the given training set for a specified target column.\n",
    "    \n",
    "    Args:\n",
    "    train_set (pd.DataFrame): The training dataset.\n",
    "    target_column (str): The name of the target column.\n",
    "    \n",
    "    Returns:\n",
    "    lgb.Booster: Trained LightGBM model.\n",
    "    \"\"\"\n",
    "    # Prepare the training data\n",
    "    X_train, y_train = train_set[FEATURE_COLUMNS], train_set[target_column]\n",
    "    \n",
    "    # Create LightGBM dataset\n",
    "    train_data = lgb.Dataset(X_train, label=y_train)\n",
    "    \n",
    "    # Train the model\n",
    "    num_rounds = 800\n",
    "    lgb_model = lgb.train(params, train_data, num_rounds)\n",
    "    \n",
    "    return lgb_model"
   ]
  },
  {
   "cell_type": "code",
   "execution_count": 7,
   "metadata": {},
   "outputs": [],
   "source": [
    "def predict_lgb(model, test_set, target_column):\n",
    "    \"\"\"\n",
    "    Make predictions using a trained LightGBM model on the test set.\n",
    "    \n",
    "    Args:\n",
    "    model (lgb.Booster): Trained LightGBM model.\n",
    "    test_set (pd.DataFrame): The test dataset.\n",
    "    target_column (str): The name of the target column.\n",
    "    \n",
    "    Returns:\n",
    "    tuple: A tuple containing:\n",
    "        - y_pred (np.array): Predictions on the test set.\n",
    "        - y_test (pd.Series): Actual values from the test set.\n",
    "    \"\"\"\n",
    "    # Prepare the testing data\n",
    "    X_test, y_test = test_set[FEATURE_COLUMNS], test_set[target_column]\n",
    "    \n",
    "    # Make predictions\n",
    "    y_pred = model.predict(X_test)\n",
    "    \n",
    "    return y_pred, y_test"
   ]
  },
  {
   "cell_type": "code",
   "execution_count": 10,
   "metadata": {},
   "outputs": [],
   "source": [
    "def evaluate_model(y_test, y_pred):\n",
    "    \"\"\"\n",
    "    Evaluate the model performance using various metrics.\n",
    "    \n",
    "    Args:\n",
    "    y_test (pd.Series): Actual values.\n",
    "    y_pred (np.array): Predicted values.\n",
    "    \n",
    "    Returns:\n",
    "    dict: A dictionary containing the evaluation metrics.\n",
    "    \"\"\"\n",
    "    rmse = np.sqrt(mean_squared_error(y_test, y_pred))\n",
    "    smape = np.mean(2 * np.abs(y_pred - y_test) / (np.abs(y_pred) + np.abs(y_test))) * 100\n",
    "    mae = mean_absolute_error(y_test, y_pred)\n",
    "    r2 = r2_score(y_test, y_pred)\n",
    "    \n",
    "    return {\n",
    "        \"RMSE\": rmse,\n",
    "        \"SMAPE\": smape,\n",
    "        \"MAE\": mae,\n",
    "        \"R2\": r2\n",
    "    }"
   ]
  },
  {
   "cell_type": "code",
   "execution_count": 12,
   "metadata": {},
   "outputs": [
    {
     "name": "stdout",
     "output_type": "stream",
     "text": [
      "\n",
      "--- Processing o3 ---\n",
      "RMSE: 13.182913084622786\n",
      "SMAPE: 18.55019421688177\n",
      "MAE: 9.982861611922699\n",
      "R2: 0.7838088284058791\n",
      "\n",
      "--- Processing pm10 ---\n",
      "RMSE: 30.139230066977923\n",
      "SMAPE: 26.134141942020918\n",
      "MAE: 15.499543182866114\n",
      "R2: 0.7518057614399709\n",
      "\n",
      "--- Processing pm2_5 ---\n",
      "RMSE: 15.83370898405577\n",
      "SMAPE: 28.54110193432686\n",
      "MAE: 9.002091174875636\n",
      "R2: 0.7690399196693183\n",
      "\n",
      "--- Processing no2 ---\n",
      "RMSE: 8.068337885363944\n",
      "SMAPE: 28.418755811008158\n",
      "MAE: 6.023987340566541\n",
      "R2: 0.7271012637136374\n"
     ]
    }
   ],
   "source": [
    "\n",
    "for target_column in target_columns:\n",
    "    print(f\"\\n--- Processing {target_column} ---\")\n",
    "    # Train the model\n",
    "    lgb_model = train_lgb(train_set, target_column)\n",
    "    # Make predictions\n",
    "    y_pred, y_test = predict_lgb(lgb_model, test_set, target_column)\n",
    "    # Save the results\n",
    "    results_df = pd.DataFrame({\n",
    "        'y_test': y_test,\n",
    "        'predictions': y_pred\n",
    "    })\n",
    "    results_df.to_csv(f'{target_column}_results.csv', index=False)\n",
    "    # Evaluate the model\n",
    "    metrics = evaluate_model(y_test, y_pred)\n",
    "    \n",
    "    # Print the evaluation metrics\n",
    "    for metric, value in metrics.items():\n",
    "        print(f\"{metric}: {value}\")"
   ]
  }
 ],
 "metadata": {
  "kernelspec": {
   "display_name": "air",
   "language": "python",
   "name": "python3"
  },
  "language_info": {
   "codemirror_mode": {
    "name": "ipython",
    "version": 3
   },
   "file_extension": ".py",
   "mimetype": "text/x-python",
   "name": "python",
   "nbconvert_exporter": "python",
   "pygments_lexer": "ipython3",
   "version": "3.10.14"
  }
 },
 "nbformat": 4,
 "nbformat_minor": 2
}
